{
 "cells": [
  {
   "cell_type": "markdown",
   "metadata": {},
   "source": [
    "# Data Collection"
   ]
  },
  {
   "cell_type": "code",
   "execution_count": 3,
   "metadata": {},
   "outputs": [],
   "source": [
    "import urllib.request\n",
    "from selenium import webdriver\n",
    "from webdriver_manager.chrome import ChromeDriverManager\n",
    "from selenium.webdriver.chrome.options import Options\n",
    "from bs4 import BeautifulSoup"
   ]
  },
  {
   "cell_type": "code",
   "execution_count": 4,
   "metadata": {},
   "outputs": [],
   "source": [
    "import pprint\n",
    "import time\n",
    "from selenium.webdriver.common.by import By"
   ]
  },
  {
   "cell_type": "code",
   "execution_count": 18,
   "metadata": {},
   "outputs": [],
   "source": [
    "POSITION_MEDIAN_SALARIES = {\n",
    "        \"software-engineer\":161000, \n",
    "        \"product-designer\":135000,\n",
    "        \"product-manager\":190000,\n",
    "        \"technical-program-manager\":202000,\n",
    "        \"solution-architect\": 177350,\n",
    "        \"security-analyst\":129000,\n",
    "        \"technical-writer\":120000,\n",
    "        \"sales-engineer\":195750,\n",
    "        \"investment-banker\":180000,\n",
    "        \"business-development\":174700,\n",
    "        \"biomedical-engineer\":119900,\n",
    "        \"hardware-engineer\":190000,\n",
    "        \"mechanical-engineer\":107800,\n",
    "        \"accountant\":86000,\n",
    "        \"data-scientist\":153500, \n",
    "        \"business-analyst\":100000\n",
    "    }\n",
    "\n",
    "POSITION_AREA = {\n",
    "        \"software-engineer\":\"Technology\", \n",
    "        \"product-designer\":\"Technology\",\n",
    "        \"product-manager\":\"Technology\",\n",
    "        \"technical-program-manager\":\"Technology\",\n",
    "        \"solution-architect\": \"Technology\",\n",
    "        \"security-analyst\":\"Technology\",\n",
    "        \"technical-writer\":\"Technology\",\n",
    "        \"sales-engineer\":\"Engineering\",\n",
    "        \"investment-banker\":\"Business\",\n",
    "        \"business-development\":\"Business\",\n",
    "        \"biomedical-engineer\":\"Engineering\",\n",
    "        \"hardware-engineer\":\"Engineering\",\n",
    "        \"mechanical-engineer\":\"Engineering\",\n",
    "        \"accountant\":\"Business\",\n",
    "        \"data-scientist\":\"Technology\", \n",
    "        \"business-analyst\":\"Business\"\n",
    "    }"
   ]
  },
  {
   "cell_type": "code",
   "execution_count": 5,
   "metadata": {},
   "outputs": [],
   "source": [
    "def scrape_page(driver, position: str, page: int, limit: int):\n",
    "    page += 1\n",
    "    url = f\"https://www.levels.fyi/t/{position}?countryId=254&offset={page*limit}&limit={limit}\"\n",
    "    driver.get(url)\n",
    "    time.sleep(10)\n",
    "    return driver.find_elements(By.TAG_NAME, \"td\")"
   ]
  },
  {
   "cell_type": "code",
   "execution_count": 6,
   "metadata": {},
   "outputs": [],
   "source": [
    "def parse_contents(position: str, page_contents: list, writer):\n",
    "    i = 0\n",
    "    term = True\n",
    "    while(term):\n",
    "        temp = {}\n",
    "        temp[\"Title\"] = position\n",
    "        temp[\"title_median_salary\"] = POSITION_MEDIAN_SALARIES[position]\n",
    "        temp[\"Company/Location/Date\"] = page_contents[i].text\n",
    "        temp[\"Level_Name/Tag\"] = page_contents[i+1].text\n",
    "        temp[\"Total_Yrs_Exp/Yrs_Exp_At_Company\"] = page_contents[i+2].text\n",
    "        temp[\"Total_Comp/Itemized_Comp\"] = page_contents[i+3].text\n",
    "        i+=4\n",
    "        writer.writerow(temp)\n",
    "        try:\n",
    "            page_contents[i+3]\n",
    "        except:\n",
    "            term = False\n",
    "            break\n",
    "        if(\"Negotiate up\" in page_contents[i].text or \"mentorship\" in page_contents[i].text):\n",
    "            i+=1"
   ]
  },
  {
   "cell_type": "code",
   "execution_count": 7,
   "metadata": {},
   "outputs": [],
   "source": [
    "def get_all_pages(driver, position: str, writer, num_mined_pages: int = 19, page_limit: int = 50):\n",
    "    for i in range(num_mined_pages):\n",
    "        page_contents = scrape_page(driver, position,i,page_limit)\n",
    "        parse_contents(position,page_contents,writer)\n",
    "        if(i == 10):\n",
    "            print(\"Page: \"+str(i))"
   ]
  },
  {
   "cell_type": "code",
   "execution_count": 8,
   "metadata": {},
   "outputs": [],
   "source": [
    "def get_all_pages_for_positions(positions: list,  writer):\n",
    "    for position in positions:\n",
    "        print(\"Starting up browser\")\n",
    "        driver = webdriver.Chrome(ChromeDriverManager().install())\n",
    "        url = f\"https://www.levels.fyi/t/{position}?countryId=254&offset=0&limit=50\"\n",
    "        driver.get(url)\n",
    "        print(f\"Waiting for {url}\")\n",
    "        time.sleep(35)\n",
    "        l = driver.find_element(By.CLASS_NAME,\"css-1q3lwpg\")\n",
    "        driver.execute_script(\"arguments[0].click();\", l)\n",
    "        time.sleep(5)\n",
    "        l = driver.find_element(By.CLASS_NAME,\"css-boyo6o\")\n",
    "        driver.execute_script(\"arguments[0].click();\", l)\n",
    "        print(\"Buttons Clicked!\")\n",
    "        print(\"-- \"+position+\" -- \")\n",
    "        get_all_pages(driver,position,writer)\n",
    "        driver.quit()"
   ]
  },
  {
   "cell_type": "code",
   "execution_count": 9,
   "metadata": {},
   "outputs": [],
   "source": [
    "import csv\n",
    "def write_data_to_csv(iterator):\n",
    "    position_titles = list(POSITION_MEDIAN_SALARIES.keys())\n",
    "    data_file = open(f\"levels-{position_titles[iterator]}.csv\", \"w\")\n",
    "    writer = csv.DictWriter(data_file,\n",
    "                            fieldnames=[\"Title\",\n",
    "                                        \"title_median_salary\",\n",
    "                                        \"Company/Location/Date\",\n",
    "                                        \"Level_Name/Tag\",\n",
    "                                        \"Total_Yrs_Exp/Yrs_Exp_At_Company\",\n",
    "                                        \"Total_Comp/Itemized_Comp\"])\n",
    "    writer.writeheader()\n",
    "\n",
    "    get_all_pages_for_positions([position_titles[iterator]],writer)\n"
   ]
  },
  {
   "cell_type": "code",
   "execution_count": 33,
   "metadata": {},
   "outputs": [
    {
     "data": {
      "text/plain": [
       "dict_keys(['software-engineer', 'product-designer', 'product-manager', 'technical-program-manager', 'solution-architect', 'security-analyst', 'technical-writer', 'sales-engineer', 'investment-banker', 'business-development', 'biomedical-engineer', 'hardware-engineer', 'mechanical-engineer', 'accountant', 'data-scientist', 'business-analyst'])"
      ]
     },
     "execution_count": 33,
     "metadata": {},
     "output_type": "execute_result"
    }
   ],
   "source": [
    "POSITION_MEDIAN_SALARIES.keys()"
   ]
  },
  {
   "cell_type": "code",
   "execution_count": 11,
   "metadata": {},
   "outputs": [
    {
     "name": "stdout",
     "output_type": "stream",
     "text": [
      "Starting up browser\n"
     ]
    },
    {
     "name": "stderr",
     "output_type": "stream",
     "text": [
      "/var/folders/_h/hm4whgn109v7shcjkyc9sgqm0000gn/T/ipykernel_54198/3155847195.py:4: DeprecationWarning: executable_path has been deprecated, please pass in a Service object\n",
      "  driver = webdriver.Chrome(ChromeDriverManager().install())\n"
     ]
    },
    {
     "name": "stdout",
     "output_type": "stream",
     "text": [
      "Waiting for https://www.levels.fyi/t/sales-engineer?countryId=254&offset=0&limit=50\n",
      "Buttons Clicked!\n",
      "-- sales-engineer -- \n",
      "Errored - sales-engineer\n",
      "Starting up browser\n",
      "Waiting for https://www.levels.fyi/t/investment-banker?countryId=254&offset=0&limit=50\n",
      "Buttons Clicked!\n",
      "-- investment-banker -- \n",
      "Errored - investment-banker\n",
      "Starting up browser\n",
      "Waiting for https://www.levels.fyi/t/business-development?countryId=254&offset=0&limit=50\n",
      "Buttons Clicked!\n",
      "-- business-development -- \n",
      "Errored - business-development\n",
      "Starting up browser\n",
      "Waiting for https://www.levels.fyi/t/biomedical-engineer?countryId=254&offset=0&limit=50\n",
      "Buttons Clicked!\n",
      "-- biomedical-engineer -- \n",
      "Errored - biomedical-engineer\n",
      "Starting up browser\n",
      "Waiting for https://www.levels.fyi/t/hardware-engineer?countryId=254&offset=0&limit=50\n",
      "Buttons Clicked!\n",
      "-- hardware-engineer -- \n",
      "Page: 10\n",
      "Errored - hardware-engineer\n",
      "Starting up browser\n",
      "Waiting for https://www.levels.fyi/t/mechanical-engineer?countryId=254&offset=0&limit=50\n",
      "Buttons Clicked!\n",
      "-- mechanical-engineer -- \n",
      "Page: 10\n",
      "Starting up browser\n",
      "Waiting for https://www.levels.fyi/t/accountant?countryId=254&offset=0&limit=50\n",
      "Buttons Clicked!\n",
      "-- accountant -- \n",
      "Page: 10\n",
      "Starting up browser\n",
      "Waiting for https://www.levels.fyi/t/data-scientist?countryId=254&offset=0&limit=50\n",
      "Buttons Clicked!\n",
      "-- data-scientist -- \n",
      "Page: 10\n",
      "Starting up browser\n",
      "Waiting for https://www.levels.fyi/t/business-analyst?countryId=254&offset=0&limit=50\n",
      "Buttons Clicked!\n",
      "-- business-analyst -- \n",
      "Page: 10\n"
     ]
    }
   ],
   "source": [
    "for i in range(7,len(list(POSITION_MEDIAN_SALARIES.keys()))):\n",
    "    try:\n",
    "        write_data_to_csv(i)\n",
    "    except:\n",
    "        print(f\"Errored - {list(POSITION_MEDIAN_SALARIES.keys())[i]}\")"
   ]
  },
  {
   "cell_type": "markdown",
   "metadata": {},
   "source": [
    "# Data Preprocessing"
   ]
  },
  {
   "cell_type": "code",
   "execution_count": 12,
   "metadata": {},
   "outputs": [],
   "source": [
    "import pandas as pd\n",
    "import os"
   ]
  },
  {
   "cell_type": "code",
   "execution_count": 15,
   "metadata": {},
   "outputs": [],
   "source": [
    "datasets = []\n",
    "files = os.listdir(\"./Data\")\n",
    "for file in files:\n",
    "    datasets.append(pd.read_csv(f\"./Data/{file}\"))"
   ]
  },
  {
   "cell_type": "markdown",
   "metadata": {},
   "source": [
    "## Combing Each Job Titles Data"
   ]
  },
  {
   "cell_type": "code",
   "execution_count": 16,
   "metadata": {},
   "outputs": [
    {
     "name": "stdout",
     "output_type": "stream",
     "text": [
      "(10369, 6)\n",
      "(10357, 6)\n"
     ]
    }
   ],
   "source": [
    "combined_df = pd.concat(datasets)\n",
    "print(combined_df.shape)\n",
    "combined_df = combined_df.dropna()\n",
    "combined_df = combined_df.drop_duplicates()\n",
    "print(combined_df.shape)"
   ]
  },
  {
   "cell_type": "code",
   "execution_count": 22,
   "metadata": {},
   "outputs": [],
   "source": [
    "col = combined_df[\"Title\"].to_list()\n",
    "area = []\n",
    "for i in range(len(col)):\n",
    "    area.append(POSITION_AREA[col[i]])\n",
    "combined_df['industry'] = area"
   ]
  },
  {
   "cell_type": "markdown",
   "metadata": {},
   "source": [
    "### Processing Company Name and State into a usable format"
   ]
  },
  {
   "cell_type": "code",
   "execution_count": 24,
   "metadata": {},
   "outputs": [
    {
     "data": {
      "text/html": [
       "<div>\n",
       "<style scoped>\n",
       "    .dataframe tbody tr th:only-of-type {\n",
       "        vertical-align: middle;\n",
       "    }\n",
       "\n",
       "    .dataframe tbody tr th {\n",
       "        vertical-align: top;\n",
       "    }\n",
       "\n",
       "    .dataframe thead th {\n",
       "        text-align: right;\n",
       "    }\n",
       "</style>\n",
       "<table border=\"1\" class=\"dataframe\">\n",
       "  <thead>\n",
       "    <tr style=\"text-align: right;\">\n",
       "      <th></th>\n",
       "      <th>Title</th>\n",
       "      <th>title_median_salary</th>\n",
       "      <th>Company/Location/Date</th>\n",
       "      <th>Level_Name/Tag</th>\n",
       "      <th>Total_Yrs_Exp/Yrs_Exp_At_Company</th>\n",
       "      <th>Total_Comp/Itemized_Comp</th>\n",
       "      <th>industry</th>\n",
       "      <th>state</th>\n",
       "      <th>company_name</th>\n",
       "    </tr>\n",
       "  </thead>\n",
       "  <tbody>\n",
       "    <tr>\n",
       "      <th>0</th>\n",
       "      <td>sales-engineer</td>\n",
       "      <td>195750</td>\n",
       "      <td>Sales Engineer\\nLos Angeles, CA | 09/27/2022</td>\n",
       "      <td>hidden\\nhidden</td>\n",
       "      <td>0-1 yrs\\n0-1 yrs</td>\n",
       "      <td>$120,000\\n120K | N/A | N/A</td>\n",
       "      <td>Engineering</td>\n",
       "      <td>CA</td>\n",
       "      <td>Sales Engineer</td>\n",
       "    </tr>\n",
       "    <tr>\n",
       "      <th>1</th>\n",
       "      <td>sales-engineer</td>\n",
       "      <td>195750</td>\n",
       "      <td>Sales Engineer\\nOrlando, FL | 09/27/2022</td>\n",
       "      <td>hidden\\nhidden</td>\n",
       "      <td>11+ yrs\\n0-1 yrs</td>\n",
       "      <td>$240,000\\n168K | N/A | N/A</td>\n",
       "      <td>Engineering</td>\n",
       "      <td>FL</td>\n",
       "      <td>Sales Engineer</td>\n",
       "    </tr>\n",
       "    <tr>\n",
       "      <th>2</th>\n",
       "      <td>sales-engineer</td>\n",
       "      <td>195750</td>\n",
       "      <td>Sales Engineer\\nAustin, TX | 09/24/2022</td>\n",
       "      <td>hidden\\nhidden</td>\n",
       "      <td>11+ yrs\\n2-4 yrs</td>\n",
       "      <td>$170,000\\n140K | N/A | N/A</td>\n",
       "      <td>Engineering</td>\n",
       "      <td>TX</td>\n",
       "      <td>Sales Engineer</td>\n",
       "    </tr>\n",
       "    <tr>\n",
       "      <th>3</th>\n",
       "      <td>sales-engineer</td>\n",
       "      <td>195750</td>\n",
       "      <td>IBM\\nAtlanta, GA | 09/22/2022</td>\n",
       "      <td>Band 6\\nTechnical Sales</td>\n",
       "      <td>0 yrs\\n0 yrs</td>\n",
       "      <td>$101,500\\n81.5K | N/A | 20K</td>\n",
       "      <td>Engineering</td>\n",
       "      <td>GA</td>\n",
       "      <td>IBM</td>\n",
       "    </tr>\n",
       "    <tr>\n",
       "      <th>4</th>\n",
       "      <td>sales-engineer</td>\n",
       "      <td>195750</td>\n",
       "      <td>Zoom\\nDallas, TX | 09/20/2022</td>\n",
       "      <td>ZP3\\nCollaboration</td>\n",
       "      <td>24 yrs\\n2 yrs</td>\n",
       "      <td>$216,000\\n162K | N/A | N/A</td>\n",
       "      <td>Engineering</td>\n",
       "      <td>TX</td>\n",
       "      <td>Zoom</td>\n",
       "    </tr>\n",
       "  </tbody>\n",
       "</table>\n",
       "</div>"
      ],
      "text/plain": [
       "            Title  title_median_salary  \\\n",
       "0  sales-engineer               195750   \n",
       "1  sales-engineer               195750   \n",
       "2  sales-engineer               195750   \n",
       "3  sales-engineer               195750   \n",
       "4  sales-engineer               195750   \n",
       "\n",
       "                          Company/Location/Date           Level_Name/Tag  \\\n",
       "0  Sales Engineer\\nLos Angeles, CA | 09/27/2022           hidden\\nhidden   \n",
       "1      Sales Engineer\\nOrlando, FL | 09/27/2022           hidden\\nhidden   \n",
       "2       Sales Engineer\\nAustin, TX | 09/24/2022           hidden\\nhidden   \n",
       "3                 IBM\\nAtlanta, GA | 09/22/2022  Band 6\\nTechnical Sales   \n",
       "4                 Zoom\\nDallas, TX | 09/20/2022       ZP3\\nCollaboration   \n",
       "\n",
       "  Total_Yrs_Exp/Yrs_Exp_At_Company     Total_Comp/Itemized_Comp     industry  \\\n",
       "0                 0-1 yrs\\n0-1 yrs   $120,000\\n120K | N/A | N/A  Engineering   \n",
       "1                 11+ yrs\\n0-1 yrs   $240,000\\n168K | N/A | N/A  Engineering   \n",
       "2                 11+ yrs\\n2-4 yrs   $170,000\\n140K | N/A | N/A  Engineering   \n",
       "3                     0 yrs\\n0 yrs  $101,500\\n81.5K | N/A | 20K  Engineering   \n",
       "4                    24 yrs\\n2 yrs   $216,000\\n162K | N/A | N/A  Engineering   \n",
       "\n",
       "  state    company_name  \n",
       "0   CA   Sales Engineer  \n",
       "1   FL   Sales Engineer  \n",
       "2   TX   Sales Engineer  \n",
       "3   GA              IBM  \n",
       "4   TX             Zoom  "
      ]
     },
     "execution_count": 24,
     "metadata": {},
     "output_type": "execute_result"
    }
   ],
   "source": [
    "col = combined_df[\"Company/Location/Date\"].to_list()\n",
    "company_name = []\n",
    "state = []\n",
    "for i in range(len(col)):\n",
    "    temp = col[i].replace('|', ',').replace('\\n', ',').split(',')\n",
    "    company_name.append(temp[0])\n",
    "    try:\n",
    "        state.append(temp[2])\n",
    "    except:\n",
    "        state.append('0')\n",
    "combined_df['state'] = state\n",
    "combined_df['company_name'] = company_name\n",
    "combined_df.head()"
   ]
  },
  {
   "cell_type": "code",
   "execution_count": 25,
   "metadata": {},
   "outputs": [
    {
     "name": "stdout",
     "output_type": "stream",
     "text": [
      "(10357, 9)\n",
      "(10357, 9)\n"
     ]
    }
   ],
   "source": [
    "print(combined_df.shape)\n",
    "combined_df = combined_df[combined_df['state'] != '0']\n",
    "print(combined_df.shape)"
   ]
  },
  {
   "cell_type": "markdown",
   "metadata": {},
   "source": [
    "### Processing Total Years Experience into a usable format"
   ]
  },
  {
   "cell_type": "code",
   "execution_count": 26,
   "metadata": {},
   "outputs": [],
   "source": [
    "col = combined_df[\"Total_Yrs_Exp/Yrs_Exp_At_Company\"].to_list()\n",
    "total_yrs_exp = []\n",
    "for i in range(len(col)):\n",
    "    temp = col[i].split(' ')[0]\n",
    "    if('-' in temp):\n",
    "        total_yrs_exp.append(int(temp.split('-')[1]))\n",
    "    elif('+' in temp):\n",
    "        total_yrs_exp.append(int(temp.split('+')[0]))\n",
    "    else:\n",
    "        total_yrs_exp.append(int(temp))\n",
    "combined_df['total_yrs_exp'] = total_yrs_exp"
   ]
  },
  {
   "cell_type": "markdown",
   "metadata": {},
   "source": [
    "### Processing Years Experience at Company into a usable format"
   ]
  },
  {
   "cell_type": "code",
   "execution_count": 27,
   "metadata": {},
   "outputs": [],
   "source": [
    "col = combined_df[\"Total_Yrs_Exp/Yrs_Exp_At_Company\"].to_list()\n",
    "company_yrs_exp = []\n",
    "for i in range(len(col)):\n",
    "    temp = col[i].split('\\n')[1]\n",
    "    temp = temp.split(' ')[0]\n",
    "    if('-' in temp):\n",
    "        company_yrs_exp.append(int(temp.split('-')[1]))\n",
    "    elif('+' in temp):\n",
    "        company_yrs_exp.append(int(temp.split('+')[0]))\n",
    "    else:\n",
    "        company_yrs_exp.append(int(temp))\n",
    "\n",
    "combined_df['company_yrs_exp'] = company_yrs_exp\n"
   ]
  },
  {
   "cell_type": "markdown",
   "metadata": {},
   "source": [
    "### Processing Total Compensation into a usable format"
   ]
  },
  {
   "cell_type": "code",
   "execution_count": 28,
   "metadata": {},
   "outputs": [],
   "source": [
    "col = combined_df[\"Total_Comp/Itemized_Comp\"].to_list()\n",
    "comp = []\n",
    "for i in range(len(col)):\n",
    "    temp = col[i].replace('$', '').replace(',', '').split('\\n')[0]\n",
    "    if('+' in temp):\n",
    "        temp = '0'\n",
    "    comp.append(int(temp))\n",
    "combined_df['total_comp'] = comp"
   ]
  },
  {
   "cell_type": "code",
   "execution_count": 29,
   "metadata": {},
   "outputs": [
    {
     "name": "stdout",
     "output_type": "stream",
     "text": [
      "(10357, 12)\n",
      "(10190, 12)\n"
     ]
    }
   ],
   "source": [
    "print(combined_df.shape)\n",
    "combined_df = combined_df[combined_df['total_comp'] > 0]\n",
    "print(combined_df.shape)"
   ]
  },
  {
   "cell_type": "markdown",
   "metadata": {},
   "source": [
    "### Engineering a Feature that Represents City of Employment and Population "
   ]
  },
  {
   "cell_type": "code",
   "execution_count": 30,
   "metadata": {},
   "outputs": [],
   "source": [
    "df = pd.read_csv(\"sig-cities.csv\")\n",
    "cities = df[\"Cities\"].to_list()\n",
    "\n",
    "col = combined_df[\"Company/Location/Date\"].to_list()\n",
    "locations = []\n",
    "for i in range(len(col)):\n",
    "    temp = col[i].split('\\n')[1]\n",
    "    temp = temp.split(',')[0]\n",
    "    if temp in cities:\n",
    "        locations.append(1)\n",
    "    else:\n",
    "        locations.append(0)\n",
    "combined_df['pop_city_greater_65K'] = locations"
   ]
  },
  {
   "cell_type": "code",
   "execution_count": 31,
   "metadata": {},
   "outputs": [],
   "source": [
    "abbr_df = pd.read_csv(\"50+States.csv\")\n",
    "state_median_income = pd.read_csv(\"state_median_income.csv\")\n",
    "state_median_income = pd.merge(state_median_income,abbr_df,on=\"State\")"
   ]
  },
  {
   "cell_type": "markdown",
   "metadata": {},
   "source": [
    "### Engineering a Feature to Represent State Median Income"
   ]
  },
  {
   "cell_type": "code",
   "execution_count": 32,
   "metadata": {},
   "outputs": [],
   "source": [
    "col = combined_df[\"state\"].to_list()\n",
    "states_median_income_col = [] \n",
    "for i in range(len(col)):\n",
    "    try:\n",
    "        states_median_income_col.append(state_median_income[state_median_income[\"Abbr\"] == col[i].replace(' ','')][\"HouseholdIncome\"].values[0])\n",
    "    except:\n",
    "        states_median_income_col.append(0)\n",
    "\n",
    "combined_df[\"state_median_income\"] = states_median_income_col\n",
    "combined_df = combined_df[combined_df['state_median_income'] > 0]"
   ]
  },
  {
   "cell_type": "markdown",
   "metadata": {},
   "source": [
    "### Engineering a Feature to Represent FAANG jobs or not"
   ]
  },
  {
   "cell_type": "code",
   "execution_count": 33,
   "metadata": {},
   "outputs": [
    {
     "data": {
      "text/plain": [
       "(10181, 15)"
      ]
     },
     "execution_count": 33,
     "metadata": {},
     "output_type": "execute_result"
    }
   ],
   "source": [
    "col = combined_df[\"company_name\"].to_list()\n",
    "faang = [] \n",
    "for i in range(len(col)):\n",
    "    if(col[i] in [\"Facebook\",\"Meta\",\"Amazon\",\"AWS\",\"Amazon Web Services\",\"Apple\",\"Netflix\",\"Google\",\"Alphabet\"]):\n",
    "        faang.append(1)\n",
    "    else:\n",
    "        faang.append(0)\n",
    "        \n",
    "combined_df[\"faang\"] = faang\n",
    "combined_df.shape"
   ]
  },
  {
   "cell_type": "markdown",
   "metadata": {},
   "source": [
    "### Remove unneeded features"
   ]
  },
  {
   "attachments": {},
   "cell_type": "markdown",
   "metadata": {},
   "source": [
    "### One Hot Encode Industry"
   ]
  },
  {
   "cell_type": "code",
   "execution_count": 34,
   "metadata": {},
   "outputs": [
    {
     "data": {
      "text/html": [
       "<div>\n",
       "<style scoped>\n",
       "    .dataframe tbody tr th:only-of-type {\n",
       "        vertical-align: middle;\n",
       "    }\n",
       "\n",
       "    .dataframe tbody tr th {\n",
       "        vertical-align: top;\n",
       "    }\n",
       "\n",
       "    .dataframe thead th {\n",
       "        text-align: right;\n",
       "    }\n",
       "</style>\n",
       "<table border=\"1\" class=\"dataframe\">\n",
       "  <thead>\n",
       "    <tr style=\"text-align: right;\">\n",
       "      <th></th>\n",
       "      <th>Title</th>\n",
       "      <th>title_median_salary</th>\n",
       "      <th>Company/Location/Date</th>\n",
       "      <th>Level_Name/Tag</th>\n",
       "      <th>Total_Yrs_Exp/Yrs_Exp_At_Company</th>\n",
       "      <th>Total_Comp/Itemized_Comp</th>\n",
       "      <th>industry</th>\n",
       "      <th>state</th>\n",
       "      <th>company_name</th>\n",
       "      <th>total_yrs_exp</th>\n",
       "      <th>company_yrs_exp</th>\n",
       "      <th>total_comp</th>\n",
       "      <th>pop_city_greater_65K</th>\n",
       "      <th>state_median_income</th>\n",
       "      <th>faang</th>\n",
       "      <th>Business</th>\n",
       "      <th>Engineering</th>\n",
       "      <th>Technology</th>\n",
       "    </tr>\n",
       "  </thead>\n",
       "  <tbody>\n",
       "    <tr>\n",
       "      <th>0</th>\n",
       "      <td>sales-engineer</td>\n",
       "      <td>195750</td>\n",
       "      <td>Sales Engineer\\nLos Angeles, CA | 09/27/2022</td>\n",
       "      <td>hidden\\nhidden</td>\n",
       "      <td>0-1 yrs\\n0-1 yrs</td>\n",
       "      <td>$120,000\\n120K | N/A | N/A</td>\n",
       "      <td>Engineering</td>\n",
       "      <td>CA</td>\n",
       "      <td>Sales Engineer</td>\n",
       "      <td>1</td>\n",
       "      <td>1</td>\n",
       "      <td>120000</td>\n",
       "      <td>1</td>\n",
       "      <td>78672</td>\n",
       "      <td>0</td>\n",
       "      <td>0</td>\n",
       "      <td>1</td>\n",
       "      <td>0</td>\n",
       "    </tr>\n",
       "    <tr>\n",
       "      <th>1</th>\n",
       "      <td>sales-engineer</td>\n",
       "      <td>195750</td>\n",
       "      <td>Sales Engineer\\nOrlando, FL | 09/27/2022</td>\n",
       "      <td>hidden\\nhidden</td>\n",
       "      <td>11+ yrs\\n0-1 yrs</td>\n",
       "      <td>$240,000\\n168K | N/A | N/A</td>\n",
       "      <td>Engineering</td>\n",
       "      <td>FL</td>\n",
       "      <td>Sales Engineer</td>\n",
       "      <td>11</td>\n",
       "      <td>1</td>\n",
       "      <td>240000</td>\n",
       "      <td>1</td>\n",
       "      <td>57703</td>\n",
       "      <td>0</td>\n",
       "      <td>0</td>\n",
       "      <td>1</td>\n",
       "      <td>0</td>\n",
       "    </tr>\n",
       "    <tr>\n",
       "      <th>2</th>\n",
       "      <td>sales-engineer</td>\n",
       "      <td>195750</td>\n",
       "      <td>Sales Engineer\\nAustin, TX | 09/24/2022</td>\n",
       "      <td>hidden\\nhidden</td>\n",
       "      <td>11+ yrs\\n2-4 yrs</td>\n",
       "      <td>$170,000\\n140K | N/A | N/A</td>\n",
       "      <td>Engineering</td>\n",
       "      <td>TX</td>\n",
       "      <td>Sales Engineer</td>\n",
       "      <td>11</td>\n",
       "      <td>4</td>\n",
       "      <td>170000</td>\n",
       "      <td>1</td>\n",
       "      <td>63826</td>\n",
       "      <td>0</td>\n",
       "      <td>0</td>\n",
       "      <td>1</td>\n",
       "      <td>0</td>\n",
       "    </tr>\n",
       "    <tr>\n",
       "      <th>3</th>\n",
       "      <td>sales-engineer</td>\n",
       "      <td>195750</td>\n",
       "      <td>IBM\\nAtlanta, GA | 09/22/2022</td>\n",
       "      <td>Band 6\\nTechnical Sales</td>\n",
       "      <td>0 yrs\\n0 yrs</td>\n",
       "      <td>$101,500\\n81.5K | N/A | 20K</td>\n",
       "      <td>Engineering</td>\n",
       "      <td>GA</td>\n",
       "      <td>IBM</td>\n",
       "      <td>0</td>\n",
       "      <td>0</td>\n",
       "      <td>101500</td>\n",
       "      <td>1</td>\n",
       "      <td>61224</td>\n",
       "      <td>0</td>\n",
       "      <td>0</td>\n",
       "      <td>1</td>\n",
       "      <td>0</td>\n",
       "    </tr>\n",
       "    <tr>\n",
       "      <th>4</th>\n",
       "      <td>sales-engineer</td>\n",
       "      <td>195750</td>\n",
       "      <td>Zoom\\nDallas, TX | 09/20/2022</td>\n",
       "      <td>ZP3\\nCollaboration</td>\n",
       "      <td>24 yrs\\n2 yrs</td>\n",
       "      <td>$216,000\\n162K | N/A | N/A</td>\n",
       "      <td>Engineering</td>\n",
       "      <td>TX</td>\n",
       "      <td>Zoom</td>\n",
       "      <td>24</td>\n",
       "      <td>2</td>\n",
       "      <td>216000</td>\n",
       "      <td>1</td>\n",
       "      <td>63826</td>\n",
       "      <td>0</td>\n",
       "      <td>0</td>\n",
       "      <td>1</td>\n",
       "      <td>0</td>\n",
       "    </tr>\n",
       "  </tbody>\n",
       "</table>\n",
       "</div>"
      ],
      "text/plain": [
       "            Title  title_median_salary  \\\n",
       "0  sales-engineer               195750   \n",
       "1  sales-engineer               195750   \n",
       "2  sales-engineer               195750   \n",
       "3  sales-engineer               195750   \n",
       "4  sales-engineer               195750   \n",
       "\n",
       "                          Company/Location/Date           Level_Name/Tag  \\\n",
       "0  Sales Engineer\\nLos Angeles, CA | 09/27/2022           hidden\\nhidden   \n",
       "1      Sales Engineer\\nOrlando, FL | 09/27/2022           hidden\\nhidden   \n",
       "2       Sales Engineer\\nAustin, TX | 09/24/2022           hidden\\nhidden   \n",
       "3                 IBM\\nAtlanta, GA | 09/22/2022  Band 6\\nTechnical Sales   \n",
       "4                 Zoom\\nDallas, TX | 09/20/2022       ZP3\\nCollaboration   \n",
       "\n",
       "  Total_Yrs_Exp/Yrs_Exp_At_Company     Total_Comp/Itemized_Comp     industry  \\\n",
       "0                 0-1 yrs\\n0-1 yrs   $120,000\\n120K | N/A | N/A  Engineering   \n",
       "1                 11+ yrs\\n0-1 yrs   $240,000\\n168K | N/A | N/A  Engineering   \n",
       "2                 11+ yrs\\n2-4 yrs   $170,000\\n140K | N/A | N/A  Engineering   \n",
       "3                     0 yrs\\n0 yrs  $101,500\\n81.5K | N/A | 20K  Engineering   \n",
       "4                    24 yrs\\n2 yrs   $216,000\\n162K | N/A | N/A  Engineering   \n",
       "\n",
       "  state    company_name  total_yrs_exp  company_yrs_exp  total_comp  \\\n",
       "0   CA   Sales Engineer              1                1      120000   \n",
       "1   FL   Sales Engineer             11                1      240000   \n",
       "2   TX   Sales Engineer             11                4      170000   \n",
       "3   GA              IBM              0                0      101500   \n",
       "4   TX             Zoom             24                2      216000   \n",
       "\n",
       "   pop_city_greater_65K  state_median_income  faang  Business  Engineering  \\\n",
       "0                     1                78672      0         0            1   \n",
       "1                     1                57703      0         0            1   \n",
       "2                     1                63826      0         0            1   \n",
       "3                     1                61224      0         0            1   \n",
       "4                     1                63826      0         0            1   \n",
       "\n",
       "   Technology  \n",
       "0           0  \n",
       "1           0  \n",
       "2           0  \n",
       "3           0  \n",
       "4           0  "
      ]
     },
     "execution_count": 34,
     "metadata": {},
     "output_type": "execute_result"
    }
   ],
   "source": [
    "encoded = pd.get_dummies(combined_df['industry'])\n",
    "# combined_df = combined_df.drop('Industry',axis=1)\n",
    "levels_df = pd.concat([combined_df,encoded], axis=1)\n",
    "levels_df.head()"
   ]
  },
  {
   "cell_type": "code",
   "execution_count": 48,
   "metadata": {},
   "outputs": [],
   "source": [
    "levels_df.to_csv(\"levels_data.csv\")"
   ]
  },
  {
   "cell_type": "code",
   "execution_count": 46,
   "metadata": {},
   "outputs": [
    {
     "data": {
      "text/html": [
       "<div>\n",
       "<style scoped>\n",
       "    .dataframe tbody tr th:only-of-type {\n",
       "        vertical-align: middle;\n",
       "    }\n",
       "\n",
       "    .dataframe tbody tr th {\n",
       "        vertical-align: top;\n",
       "    }\n",
       "\n",
       "    .dataframe thead th {\n",
       "        text-align: right;\n",
       "    }\n",
       "</style>\n",
       "<table border=\"1\" class=\"dataframe\">\n",
       "  <thead>\n",
       "    <tr style=\"text-align: right;\">\n",
       "      <th></th>\n",
       "      <th>title_median_salary</th>\n",
       "      <th>industry</th>\n",
       "      <th>total_yrs_exp</th>\n",
       "      <th>company_yrs_exp</th>\n",
       "      <th>total_comp</th>\n",
       "      <th>pop_city_greater_65K</th>\n",
       "      <th>state_median_income</th>\n",
       "      <th>faang</th>\n",
       "      <th>Business</th>\n",
       "      <th>Engineering</th>\n",
       "      <th>Technology</th>\n",
       "    </tr>\n",
       "  </thead>\n",
       "  <tbody>\n",
       "    <tr>\n",
       "      <th>0</th>\n",
       "      <td>195750</td>\n",
       "      <td>Engineering</td>\n",
       "      <td>1</td>\n",
       "      <td>1</td>\n",
       "      <td>120000</td>\n",
       "      <td>1</td>\n",
       "      <td>78672</td>\n",
       "      <td>0</td>\n",
       "      <td>0</td>\n",
       "      <td>1</td>\n",
       "      <td>0</td>\n",
       "    </tr>\n",
       "    <tr>\n",
       "      <th>1</th>\n",
       "      <td>195750</td>\n",
       "      <td>Engineering</td>\n",
       "      <td>11</td>\n",
       "      <td>1</td>\n",
       "      <td>240000</td>\n",
       "      <td>1</td>\n",
       "      <td>57703</td>\n",
       "      <td>0</td>\n",
       "      <td>0</td>\n",
       "      <td>1</td>\n",
       "      <td>0</td>\n",
       "    </tr>\n",
       "    <tr>\n",
       "      <th>2</th>\n",
       "      <td>195750</td>\n",
       "      <td>Engineering</td>\n",
       "      <td>11</td>\n",
       "      <td>4</td>\n",
       "      <td>170000</td>\n",
       "      <td>1</td>\n",
       "      <td>63826</td>\n",
       "      <td>0</td>\n",
       "      <td>0</td>\n",
       "      <td>1</td>\n",
       "      <td>0</td>\n",
       "    </tr>\n",
       "    <tr>\n",
       "      <th>3</th>\n",
       "      <td>195750</td>\n",
       "      <td>Engineering</td>\n",
       "      <td>0</td>\n",
       "      <td>0</td>\n",
       "      <td>101500</td>\n",
       "      <td>1</td>\n",
       "      <td>61224</td>\n",
       "      <td>0</td>\n",
       "      <td>0</td>\n",
       "      <td>1</td>\n",
       "      <td>0</td>\n",
       "    </tr>\n",
       "    <tr>\n",
       "      <th>4</th>\n",
       "      <td>195750</td>\n",
       "      <td>Engineering</td>\n",
       "      <td>24</td>\n",
       "      <td>2</td>\n",
       "      <td>216000</td>\n",
       "      <td>1</td>\n",
       "      <td>63826</td>\n",
       "      <td>0</td>\n",
       "      <td>0</td>\n",
       "      <td>1</td>\n",
       "      <td>0</td>\n",
       "    </tr>\n",
       "  </tbody>\n",
       "</table>\n",
       "</div>"
      ],
      "text/plain": [
       "   title_median_salary     industry  total_yrs_exp  company_yrs_exp  \\\n",
       "0               195750  Engineering              1                1   \n",
       "1               195750  Engineering             11                1   \n",
       "2               195750  Engineering             11                4   \n",
       "3               195750  Engineering              0                0   \n",
       "4               195750  Engineering             24                2   \n",
       "\n",
       "   total_comp  pop_city_greater_65K  state_median_income  faang  Business  \\\n",
       "0      120000                     1                78672      0         0   \n",
       "1      240000                     1                57703      0         0   \n",
       "2      170000                     1                63826      0         0   \n",
       "3      101500                     1                61224      0         0   \n",
       "4      216000                     1                63826      0         0   \n",
       "\n",
       "   Engineering  Technology  \n",
       "0            1           0  \n",
       "1            1           0  \n",
       "2            1           0  \n",
       "3            1           0  \n",
       "4            1           0  "
      ]
     },
     "execution_count": 46,
     "metadata": {},
     "output_type": "execute_result"
    }
   ],
   "source": [
    "for label in [\"Company/Location/Date\",\"Level_Name/Tag\",\"Total_Yrs_Exp/Yrs_Exp_At_Company\",\"Total_Comp/Itemized_Comp\",\"state\",\"company_name\",\"Title\"]:\n",
    "    levels_df.drop(label,axis=1,inplace=True)\n",
    "levels_df.head()"
   ]
  },
  {
   "cell_type": "code",
   "execution_count": 47,
   "metadata": {},
   "outputs": [],
   "source": [
    "levels_df.drop(\"industry\",axis=1,inplace=True)"
   ]
  },
  {
   "cell_type": "code",
   "execution_count": 49,
   "metadata": {},
   "outputs": [
    {
     "data": {
      "text/plain": [
       "(10181, 10)"
      ]
     },
     "execution_count": 49,
     "metadata": {},
     "output_type": "execute_result"
    }
   ],
   "source": [
    "levels_df.shape"
   ]
  },
  {
   "cell_type": "markdown",
   "metadata": {},
   "source": [
    "### Checking Shape of Data"
   ]
  },
  {
   "cell_type": "code",
   "execution_count": 35,
   "metadata": {},
   "outputs": [
    {
     "data": {
      "image/png": "[encoded data removed]",
      "text/plain": [
       "<Figure size 640x480 with 1 Axes>"
      ]
     },
     "metadata": {},
     "output_type": "display_data"
    }
   ],
   "source": [
    "import matplotlib.pyplot as plt\n",
    "\n",
    "fig = plt.figure()\n",
    "fig.suptitle('Box Plot of Total Compensation', fontsize=14, fontweight='bold')\n",
    "\n",
    "ax = fig.add_subplot(111)\n",
    "ax.boxplot(levels_df[\"total_comp\"])\n",
    "ax.set_ylabel('Total Compensation ($)')"
   ]
  },
  {
   "cell_type": "markdown",
   "metadata": {},
   "source": [
    "### Removing Outliers"
   ]
  },
  {
   "cell_type": "code",
   "execution_count": 512,
   "metadata": {},
   "outputs": [],
   "source": [
    "import numpy as np\n",
    "\n",
    "q3, q1 = np.percentile(levels_df[\"total_comp\"], [75 ,25])\n",
    "iqr = q3 - q1\n",
    "upper_limit = q3+iqr"
   ]
  },
  {
   "cell_type": "code",
   "execution_count": 515,
   "metadata": {},
   "outputs": [
    {
     "name": "stdout",
     "output_type": "stream",
     "text": [
      "(4454, 11)\n",
      "(4046, 11)\n"
     ]
    }
   ],
   "source": [
    "print(levels_df.shape)\n",
    "levels_df = levels_df[levels_df[\"total_comp\"] < upper_limit]\n",
    "print(levels_df.shape)"
   ]
  },
  {
   "cell_type": "code",
   "execution_count": 519,
   "metadata": {},
   "outputs": [
    {
     "data": {
      "text/plain": [
       "Text(0, 0.5, 'Total Compensation ($)')"
      ]
     },
     "execution_count": 519,
     "metadata": {},
     "output_type": "execute_result"
    },
    {
     "data": {
      "image/png": "[encoded data removed]",
      "text/plain": [
       "<Figure size 640x480 with 1 Axes>"
      ]
     },
     "metadata": {},
     "output_type": "display_data"
    }
   ],
   "source": [
    "import matplotlib.pyplot as plt\n",
    "\n",
    "fig = plt.figure()\n",
    "fig.suptitle('Box Plot of Total Compensation', fontsize=14, fontweight='bold')\n",
    "\n",
    "ax = fig.add_subplot(111)\n",
    "ax.boxplot(levels_df[\"total_comp\"])\n",
    "ax.set_ylabel('Total Compensation ($)')"
   ]
  },
  {
   "cell_type": "code",
   "execution_count": 362,
   "metadata": {},
   "outputs": [
    {
     "name": "stdout",
     "output_type": "stream",
     "text": [
      "[235000. 165000.  95000.  65000.]\n"
     ]
    }
   ],
   "source": [
    "q4, q3, q2, q1 = np.percentile(levels_df[\"total_comp\"], [95, 75 ,25, 5])\n",
    "print(np.percentile(levels_df[\"total_comp\"], [95, 75 ,25, 5]))"
   ]
  },
  {
   "cell_type": "markdown",
   "metadata": {},
   "source": [
    "### Binning Continous Variables"
   ]
  },
  {
   "cell_type": "code",
   "execution_count": 365,
   "metadata": {},
   "outputs": [],
   "source": [
    "percentile = []\n",
    "\n",
    "for comp in levels_df[\"total_comp\"].to_list():\n",
    "    if(q1 >= comp):\n",
    "        percentile.append(f\"5th / >${q1}\")\n",
    "    elif(q2 >= comp):\n",
    "        percentile.append(f\"25th / >${q2}\")\n",
    "    elif(q3 >= comp):\n",
    "        percentile.append(f\"75th / >${q3}\")\n",
    "    else:\n",
    "        percentile.append(f\"95th / >${q4}\")\n",
    "\n",
    "levels_df = levels_df.drop('total_comp',axis=1)\n",
    "levels_df[\"target_total_comp\"] = percentile"
   ]
  },
  {
   "cell_type": "markdown",
   "metadata": {},
   "source": [
    "# Model Building"
   ]
  },
  {
   "cell_type": "markdown",
   "metadata": {},
   "source": [
    "### Scaling Data to Fit the Normal"
   ]
  },
  {
   "cell_type": "code",
   "execution_count": 378,
   "metadata": {},
   "outputs": [],
   "source": [
    "from sklearn.preprocessing import StandardScaler, MinMaxScaler\n",
    "scaler = MinMaxScaler()\n",
    "\n",
    "levels_df[\"state_median_income\"] = scaler.fit_transform(levels_df[\"state_median_income\"].to_numpy().reshape(-1, 1))\n",
    "levels_df[\"total_yrs_exp\"] = scaler.fit_transform(levels_df[\"total_yrs_exp\"].to_numpy().reshape(-1, 1))\n",
    "levels_df[\"company_yrs_exp\"] = scaler.fit_transform(levels_df[\"company_yrs_exp\"].to_numpy().reshape(-1, 1))"
   ]
  },
  {
   "cell_type": "markdown",
   "metadata": {},
   "source": [
    "### Etracting Target"
   ]
  },
  {
   "cell_type": "code",
   "execution_count": 367,
   "metadata": {},
   "outputs": [],
   "source": [
    "from sklearn.linear_model import LogisticRegression, SGDClassifier\n",
    "from sklearn.model_selection import train_test_split\n",
    "\n",
    "y = levels_df[\"target_total_comp\"]\n",
    "x = levels_df.drop(\"target_total_comp\",axis=1)"
   ]
  },
  {
   "cell_type": "code",
   "execution_count": 393,
   "metadata": {},
   "outputs": [],
   "source": [
    "from sklearn.linear_model import LogisticRegression, SGDClassifier"
   ]
  },
  {
   "cell_type": "markdown",
   "metadata": {},
   "source": [
    "### Train/Test/Validation Split"
   ]
  },
  {
   "cell_type": "code",
   "execution_count": 482,
   "metadata": {},
   "outputs": [],
   "source": [
    "X_train, X_test_val, y_train, y_test_val = train_test_split(x, y, test_size=0.3)\n",
    "X_test, X_val, y_test, y_val = train_test_split(X_test_val, y_test_val, test_size=0.33)"
   ]
  },
  {
   "cell_type": "markdown",
   "metadata": {},
   "source": [
    "### Logistic Regression"
   ]
  },
  {
   "cell_type": "code",
   "execution_count": 483,
   "metadata": {},
   "outputs": [],
   "source": [
    "from sklearn import metrics\n",
    "lr = LogisticRegression(solver='newton-cg',multi_class='multinomial').fit(X_train,y_train)\n",
    "y_pred = lr.predict(X_test)"
   ]
  },
  {
   "cell_type": "code",
   "execution_count": 453,
   "metadata": {},
   "outputs": [
    {
     "name": "stdout",
     "output_type": "stream",
     "text": [
      "[0.51851852 0.525      0.55       0.4875     0.5375    ]\n"
     ]
    }
   ],
   "source": [
    "from sklearn.model_selection import cross_val_score\n",
    "scores = cross_val_score(lr, X_val, y_val, cv=5)\n",
    "print(scores)"
   ]
  },
  {
   "cell_type": "markdown",
   "metadata": {},
   "source": [
    "#### Model Statistics"
   ]
  },
  {
   "cell_type": "code",
   "execution_count": 484,
   "metadata": {},
   "outputs": [
    {
     "data": {
      "image/png": "[encoded data removed]",
      "text/plain": [
       "<Figure size 640x480 with 2 Axes>"
      ]
     },
     "metadata": {},
     "output_type": "display_data"
    },
    {
     "name": "stdout",
     "output_type": "stream",
     "text": [
      "Accuracy: 0.5448954489544895\n",
      "Precision: 0.4026289300072333\n",
      "Recall: 0.3465549705576415\n",
      "F1-Score: 0.34899294899294897\n"
     ]
    }
   ],
   "source": [
    "cm = metrics.confusion_matrix(y_test, y_pred)\n",
    "cm_display = metrics.ConfusionMatrixDisplay(confusion_matrix = cm, display_labels = [95,75,25,5])\n",
    "cm_display.plot()\n",
    "cm_display.ax_.set_title(\"Logistic Regression\")\n",
    "plt.show()\n",
    "print(f\"Accuracy: {metrics.accuracy_score(y_test, y_pred)}\")\n",
    "print(f\"Precision: {metrics.precision_score(y_test, y_pred, average='macro')}\")\n",
    "print(f\"Recall: {metrics.recall_score(y_test, y_pred, average='macro')}\")\n",
    "print(f\"F1-Score: {metrics.f1_score(y_test, y_pred, average='macro')}\")"
   ]
  },
  {
   "cell_type": "markdown",
   "metadata": {},
   "source": [
    "### K Nearest Neighbors"
   ]
  },
  {
   "cell_type": "markdown",
   "metadata": {},
   "source": [
    "#### Hyperparameter Tuning"
   ]
  },
  {
   "cell_type": "code",
   "execution_count": 485,
   "metadata": {},
   "outputs": [
    {
     "name": "stdout",
     "output_type": "stream",
     "text": [
      "2: [0.28673913 0.33863636 0.35975469 0.38558253 0.26189669]\n",
      "3: [0.28378788 0.29057692 0.33770969 0.38784618 0.28966158]\n",
      "5: [0.26024363 0.31739532 0.34469384 0.39099021 0.29370945]\n",
      "7: [0.26858766 0.28568048 0.37627719 0.40457875 0.31385281]\n",
      "10: [0.26121627 0.30544878 0.34592704 0.37713639 0.27395833]\n",
      "20: [0.27788878 0.32189638 0.33776792 0.39526523 0.26021627]\n",
      "50: [0.28575036 0.31176245 0.26045918 0.19761905 0.25816993]\n",
      "100: [0.18733274 0.16101695 0.16101695 0.15811966 0.18170426]\n"
     ]
    }
   ],
   "source": [
    "from sklearn.neighbors import KNeighborsClassifier\n",
    "for i in [2,3,5,7,10,20,50,100]:\n",
    "    knn = KNeighborsClassifier(n_neighbors=i)\n",
    "    scores = cross_val_score(knn, X_val, y_val, cv=5, scoring='f1_macro')\n",
    "    print(f\"{i}: {scores}\")"
   ]
  },
  {
   "cell_type": "markdown",
   "metadata": {},
   "source": [
    "#### Model Statistics"
   ]
  },
  {
   "cell_type": "code",
   "execution_count": 487,
   "metadata": {},
   "outputs": [
    {
     "data": {
      "image/png": "[encoded data removed]",
      "text/plain": [
       "<Figure size 640x480 with 2 Axes>"
      ]
     },
     "metadata": {},
     "output_type": "display_data"
    },
    {
     "name": "stdout",
     "output_type": "stream",
     "text": [
      "Accuracy: 0.45387453874538747\n",
      "Precision: 0.37014268760404806\n",
      "Recall: 0.3668357917921319\n",
      "F1-Score: 0.34295074780564067\n"
     ]
    }
   ],
   "source": [
    "cm = metrics.confusion_matrix(y_test, y_pred)\n",
    "cm_display = metrics.ConfusionMatrixDisplay(confusion_matrix = cm, display_labels = [95,75,25,5])\n",
    "cm_display.plot()\n",
    "cm_display.ax_.set_title(\"K Nearest Neighbor K = 2\")\n",
    "plt.show()\n",
    "print(f\"Accuracy: {metrics.accuracy_score(y_test, y_pred)}\")\n",
    "print(f\"Precision: {metrics.precision_score(y_test, y_pred, average='macro')}\")\n",
    "print(f\"Recall: {metrics.recall_score(y_test, y_pred, average='macro')}\")\n",
    "print(f\"F1-Score: {metrics.f1_score(y_test, y_pred, average='macro')}\")"
   ]
  },
  {
   "cell_type": "markdown",
   "metadata": {},
   "source": [
    "### Decision Tree"
   ]
  },
  {
   "cell_type": "markdown",
   "metadata": {},
   "source": [
    "#### Hyperparameter Tuning"
   ]
  },
  {
   "cell_type": "code",
   "execution_count": null,
   "metadata": {},
   "outputs": [],
   "source": [
    "from sklearn.tree import DecisionTreeClassifier\n",
    "for i in [2,3,5,7,10,20,50,100]:\n",
    "    d_tree = DecisionTreeClassifier(min_samples_split=i)\n",
    "    scores = cross_val_score(d_tree, X_val, y_val, cv=5, scoring='f1_macro')\n",
    "    print(f\"{i}: {scores}\")"
   ]
  },
  {
   "cell_type": "code",
   "execution_count": 489,
   "metadata": {},
   "outputs": [],
   "source": [
    "d_tree = tree.DecisionTreeClassifier(min_samples_split=7).fit(X_train,y_train)\n",
    "y_pred = d_tree.predict(X_test)"
   ]
  },
  {
   "cell_type": "markdown",
   "metadata": {},
   "source": [
    "#### Model Statistics"
   ]
  },
  {
   "cell_type": "code",
   "execution_count": 490,
   "metadata": {},
   "outputs": [
    {
     "data": {
      "image/png": "[encoded data removed]",
      "text/plain": [
       "<Figure size 640x480 with 2 Axes>"
      ]
     },
     "metadata": {},
     "output_type": "display_data"
    },
    {
     "name": "stdout",
     "output_type": "stream",
     "text": [
      "Accuracy: 0.5227552275522755\n",
      "Precision: 0.4121520890378446\n",
      "Recall: 0.41070201899140707\n",
      "F1-Score: 0.409182531071096\n"
     ]
    }
   ],
   "source": [
    "cm = metrics.confusion_matrix(y_test, y_pred)\n",
    "cm_display = metrics.ConfusionMatrixDisplay(confusion_matrix = cm, display_labels = [95,75,25,5])\n",
    "cm_display.plot()\n",
    "cm_display.ax_.set_title(\"Decision Tree Min Split = 3\")\n",
    "plt.show()\n",
    "print(f\"Accuracy: {metrics.accuracy_score(y_test, y_pred)}\")\n",
    "print(f\"Precision: {metrics.precision_score(y_test, y_pred, average='macro')}\")\n",
    "print(f\"Recall: {metrics.recall_score(y_test, y_pred, average='macro')}\")\n",
    "print(f\"F1-Score: {metrics.f1_score(y_test, y_pred, average='macro')}\")"
   ]
  }
 ],
 "metadata": {
  "kernelspec": {
   "display_name": "Python 3.9.6 64-bit",
   "language": "python",
   "name": "python3"
  },
  "language_info": {
   "codemirror_mode": {
    "name": "ipython",
    "version": 3
   },
   "file_extension": ".py",
   "mimetype": "text/x-python",
   "name": "python",
   "nbconvert_exporter": "python",
   "pygments_lexer": "ipython3",
   "version": "3.9.6 (v3.9.6:db3ff76da1, Jun 28 2021, 11:49:53) \n[Clang 6.0 (clang-600.0.57)]"
  },
  "orig_nbformat": 4,
  "vscode": {
   "interpreter": {
    "hash": "aee8b7b246df8f9039afb4144a1f6fd8d2ca17a180786b69acc140d282b71a49"
   }
  }
 },
 "nbformat": 4,
 "nbformat_minor": 2
}
