{
 "cells": [
  {
   "cell_type": "code",
   "execution_count": 5,
   "metadata": {},
   "outputs": [],
   "source": [
    "import pandas as pd"
   ]
  },
  {
   "cell_type": "code",
   "execution_count": 6,
   "metadata": {},
   "outputs": [],
   "source": [
    "df_test_x = pd.read_csv(\"./mnist_test.csv\", header=None)\n",
    "df_test_y = df_test_x.iloc[:,0]\n",
    "df_test_x.drop(columns=df_test_x.columns[0], axis=1, inplace=True)"
   ]
  },
  {
   "cell_type": "code",
   "execution_count": 7,
   "metadata": {},
   "outputs": [],
   "source": [
    "df_train_x = pd.read_csv(\"./mnist_train.csv\", header=None)\n",
    "df_train_y = df_train_x.iloc[:,0]\n",
    "df_train_x.drop(columns=df_train_x.columns[0], axis=1, inplace=True)"
   ]
  },
  {
   "cell_type": "code",
   "execution_count": 8,
   "metadata": {},
   "outputs": [],
   "source": [
    "from sklearn.preprocessing import MinMaxScaler"
   ]
  },
  {
   "cell_type": "code",
   "execution_count": 9,
   "metadata": {},
   "outputs": [],
   "source": [
    "scaler = MinMaxScaler()\n",
    "df_test_x = pd.DataFrame(scaler.fit_transform(df_test_x.to_numpy()))\n",
    "df_train_x = pd.DataFrame(scaler.fit_transform(df_train_x.to_numpy()))"
   ]
  },
  {
   "cell_type": "code",
   "execution_count": 10,
   "metadata": {},
   "outputs": [],
   "source": [
    "from sklearn.decomposition import TruncatedSVD"
   ]
  },
  {
   "cell_type": "code",
   "execution_count": 11,
   "metadata": {},
   "outputs": [
    {
     "name": "stdout",
     "output_type": "stream",
     "text": [
      "99 0.9134203183214278\n"
     ]
    }
   ],
   "source": [
    "# Choosing components based on their explained_variance_ratio_\n",
    "\n",
    "prop_of_var = {'n_components': [], 'total_varience': []}\n",
    "total_ex_var = 0\n",
    "n = 1\n",
    "while total_ex_var < 90 and n < 100:\n",
    "    df_train_x_svd = TruncatedSVD(n_components=n)\n",
    "    df_train_x_svd.fit_transform(df_train_x)\n",
    "    total_ex_var = sum(df_train_x_svd.explained_variance_ratio_)\n",
    "    prop_of_var['n_components'].append(n)\n",
    "    prop_of_var['total_varience'].append(total_ex_var)\n",
    "    n+=2\n",
    "print(n-2,total_ex_var)"
   ]
  },
  {
   "cell_type": "code",
   "execution_count": 12,
   "metadata": {},
   "outputs": [],
   "source": [
    "df_train_x_svd = df_train_x_svd.fit_transform(df_train_x)\n",
    "df_test_x_svd = TruncatedSVD(n_components=n-2)\n",
    "df_test_x_svd = df_test_x_svd.fit_transform(df_test_x)"
   ]
  },
  {
   "cell_type": "code",
   "execution_count": 13,
   "metadata": {},
   "outputs": [],
   "source": [
    "import matplotlib.pyplot as plt"
   ]
  },
  {
   "cell_type": "code",
   "execution_count": 14,
   "metadata": {},
   "outputs": [
    {
     "data": {
      "text/plain": [
       "Text(0, 0.5, 'Proportion of the Variance Explained')"
      ]
     },
     "execution_count": 14,
     "metadata": {},
     "output_type": "execute_result"
    },
    {
     "data": {
      "image/png": "[encoded data removed]",
      "text/plain": [
       "<Figure size 640x480 with 1 Axes>"
      ]
     },
     "metadata": {},
     "output_type": "display_data"
    }
   ],
   "source": [
    "plt.plot(prop_of_var['n_components'], prop_of_var['total_varience']);\n",
    "plt.xlabel('Principle Components')\n",
    "plt.ylabel('Proportion of the Variance Explained')"
   ]
  },
  {
   "cell_type": "code",
   "execution_count": 15,
   "metadata": {},
   "outputs": [],
   "source": [
    "from sklearn.naive_bayes import GaussianNB\n",
    "from sklearn.linear_model import SGDClassifier\n",
    "from sklearn.neighbors import KNeighborsClassifier"
   ]
  },
  {
   "cell_type": "code",
   "execution_count": 16,
   "metadata": {},
   "outputs": [],
   "source": [
    "# Naive Bayes\n",
    "\n",
    "gnb_svd = GaussianNB()\n",
    "gnb = GaussianNB()\n",
    "gnb_model = gnb.fit(df_train_x, df_train_y)\n",
    "gnb_svd_model = gnb_svd.fit(df_train_x_svd, df_train_y)\n",
    "gnb_model_pred = gnb_model.predict(df_test_x)\n",
    "gnb_svd_model_pred = gnb_svd_model.predict(df_test_x_svd)"
   ]
  },
  {
   "cell_type": "code",
   "execution_count": 42,
   "metadata": {},
   "outputs": [],
   "source": [
    "# Logistic Regression\n",
    "\n",
    "lr_svd = SGDClassifier(loss='log_loss', learning_rate='optimal')\n",
    "lr = SGDClassifier(loss='log_loss', learning_rate='optimal')\n",
    "lr_model =lr.fit(df_train_x, df_train_y)\n",
    "lr_svd_model = lr_svd.fit(df_train_x_svd, df_train_y)\n",
    "lr_model_pred = lr_model.predict(df_test_x)\n",
    "lr_svd_model_pred = lr_svd_model.predict(df_test_x_svd)"
   ]
  },
  {
   "cell_type": "code",
   "execution_count": 18,
   "metadata": {},
   "outputs": [],
   "source": [
    "from sklearn.model_selection  import train_test_split"
   ]
  },
  {
   "cell_type": "code",
   "execution_count": 19,
   "metadata": {},
   "outputs": [],
   "source": [
    "x_train_df_svd, x_validation_df_svd, y_train_df_svd, y_validation_df_svd = train_test_split(df_train_x_svd, df_train_y, test_size=.4)\n",
    "x_train_df, x_validation_df, y_train_df, y_validation_df = train_test_split(df_train_x, df_train_y, test_size=.4)"
   ]
  },
  {
   "cell_type": "code",
   "execution_count": 27,
   "metadata": {},
   "outputs": [],
   "source": [
    "# Choosing the proper k for knn\n",
    "def optimize_k(train_x, train_y, val_x, val_y):\n",
    "    best = {'k': 3, 'score': 0}\n",
    "    for k in range(3,100,3):\n",
    "        knn = KNeighborsClassifier(n_neighbors=k)\n",
    "        model = knn.fit(train_x,train_y)\n",
    "        pred = model.predict(val_x)\n",
    "        s = model.score(val_x,val_y)\n",
    "        if(s > best['score']):\n",
    "            best['k'] = k\n",
    "            best['score'] = s\n",
    "        print(k,s)\n",
    "    return best"
   ]
  },
  {
   "cell_type": "code",
   "execution_count": 28,
   "metadata": {},
   "outputs": [
    {
     "name": "stdout",
     "output_type": "stream",
     "text": [
      "3 0.10454166666666667\n",
      "6 0.09979166666666667\n",
      "9 0.101875\n",
      "12 0.09966666666666667\n",
      "15 0.1015\n",
      "18 0.10075\n",
      "21 0.10141666666666667\n",
      "24 0.10125\n",
      "27 0.10175\n",
      "30 0.10191666666666667\n",
      "33 0.10245833333333333\n",
      "36 0.103125\n",
      "39 0.10466666666666667\n",
      "42 0.10445833333333333\n",
      "45 0.10370833333333333\n",
      "48 0.10433333333333333\n",
      "51 0.103875\n",
      "54 0.10320833333333333\n",
      "57 0.10320833333333333\n",
      "60 0.104\n",
      "63 0.10483333333333333\n",
      "66 0.104125\n",
      "69 0.105\n",
      "72 0.10579166666666667\n",
      "75 0.106125\n",
      "78 0.10616666666666667\n",
      "81 0.10879166666666666\n",
      "84 0.10866666666666666\n",
      "87 0.108\n",
      "90 0.10895833333333334\n",
      "93 0.10854166666666666\n",
      "96 0.107875\n",
      "99 0.10775\n",
      "{'k': 90, 'score': 0.10895833333333334}\n"
     ]
    }
   ],
   "source": [
    "print(optimize_k(x_train_df_svd,y_train_df,x_validation_df_svd,y_validation_df_svd))"
   ]
  },
  {
   "cell_type": "code",
   "execution_count": 31,
   "metadata": {},
   "outputs": [],
   "source": [
    "# K Nearest Neighbor\n",
    "\n",
    "knn = KNeighborsClassifier(n_neighbors=3)\n",
    "knn_model = knn.fit(x_train_df,y_train_df)\n",
    "\n",
    "knn_svd = KNeighborsClassifier(n_neighbors=3)\n",
    "knn_svd_model = knn_svd.fit(x_train_df_svd,y_train_df)\n",
    "\n",
    "knn_svd_model_pred = knn_svd_model.predict(df_test_x_svd)\n",
    "knn_model_pred = knn_model.predict(df_test_x)"
   ]
  },
  {
   "cell_type": "code",
   "execution_count": 23,
   "metadata": {},
   "outputs": [],
   "source": [
    "from sklearn.metrics import confusion_matrix\n",
    "from sklearn import metrics"
   ]
  },
  {
   "cell_type": "code",
   "execution_count": 41,
   "metadata": {},
   "outputs": [
    {
     "name": "stdout",
     "output_type": "stream",
     "text": [
      "Model: Naive Bayes\n",
      "SVD Accuracy: 0.3501\n",
      "Regular Accuracy: 0.5546\n",
      "\n",
      "Model: Logistic Regression\n",
      "SVD Accuracy: 0.1866\n",
      "Regular Accuracy: 0.9251\n",
      "\n",
      "Model: KNN\n",
      "SVD Accuracy: 0.0936\n",
      "Regular Accuracy: 0.9644\n",
      "\n"
     ]
    }
   ],
   "source": [
    "actual = df_test_y\n",
    "\n",
    "print(\"Model: Naive Bayes\")\n",
    "accuracy = metrics.accuracy_score(actual, gnb_svd_model_pred)\n",
    "print(f\"SVD Accuracy: {accuracy}\")\n",
    "accuracy = metrics.accuracy_score(actual, gnb_model_pred)\n",
    "print(f\"Regular Accuracy: {accuracy}\\n\")\n",
    "\n",
    "print(\"Model: Logistic Regression\")\n",
    "accuracy = metrics.accuracy_score(actual, lr_svd_model_pred)\n",
    "print(f\"SVD Accuracy: {accuracy}\")\n",
    "accuracy = metrics.accuracy_score(actual, lr_model_pred)\n",
    "print(f\"Regular Accuracy: {accuracy}\\n\")\n",
    "\n",
    "print(\"Model: KNN\")\n",
    "accuracy = metrics.accuracy_score(actual, knn_svd_model_pred)\n",
    "print(f\"SVD Accuracy: {accuracy}\")\n",
    "accuracy = metrics.accuracy_score(actual, knn_model_pred)\n",
    "print(f\"Regular Accuracy: {accuracy}\\n\")\n"
   ]
  },
  {
   "cell_type": "code",
   "execution_count": null,
   "metadata": {},
   "outputs": [],
   "source": []
  }
 ],
 "metadata": {
  "kernelspec": {
   "display_name": "Python 3.9.6 64-bit",
   "language": "python",
   "name": "python3"
  },
  "language_info": {
   "codemirror_mode": {
    "name": "ipython",
    "version": 3
   },
   "file_extension": ".py",
   "mimetype": "text/x-python",
   "name": "python",
   "nbconvert_exporter": "python",
   "pygments_lexer": "ipython3",
   "version": "3.9.6"
  },
  "orig_nbformat": 4,
  "vscode": {
   "interpreter": {
    "hash": "aee8b7b246df8f9039afb4144a1f6fd8d2ca17a180786b69acc140d282b71a49"
   }
  }
 },
 "nbformat": 4,
 "nbformat_minor": 2
}
